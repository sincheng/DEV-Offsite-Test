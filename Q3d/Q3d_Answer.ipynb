{
 "cells": [
  {
   "cell_type": "markdown",
   "metadata": {},
   "source": [
    "# Q3d - Product KPI setting"
   ]
  },
  {
   "cell_type": "markdown",
   "metadata": {},
   "source": [
    "## 1. Key Questions regarding the performance of the application"
   ]
  },
  {
   "cell_type": "markdown",
   "metadata": {},
   "source": [
    "From data analytics perspective, I have designed three questions to analyze user behavior, user satisfaction and revenue."
   ]
  },
  {
   "cell_type": "markdown",
   "metadata": {},
   "source": [
    "i. Session Time in each page <br>\n",
    "ii. No. of crush or error in each page <br>\n",
    "iii. User Purchase Report"
   ]
  },
  {
   "cell_type": "markdown",
   "metadata": {},
   "source": [
    "## 2. Tracking Plan"
   ]
  },
  {
   "cell_type": "markdown",
   "metadata": {},
   "source": [
    "### i. Session Time"
   ]
  },
  {
   "cell_type": "markdown",
   "metadata": {},
   "source": [
    "#### * Why\n",
    "    - Understanding the time user spent in each page\n",
    "    - Detect fruad users\n",
    "    - Improve the efficency of the flow"
   ]
  },
  {
   "cell_type": "markdown",
   "metadata": {},
   "source": [
    "#### * Field\n",
    "     - User_id\n",
    "     - Session_id\n",
    "     - Page\n",
    "     - Time"
   ]
  },
  {
   "cell_type": "markdown",
   "metadata": {},
   "source": [
    "#### * Location\n",
    "     - Each steps in ticket module"
   ]
  },
  {
   "cell_type": "markdown",
   "metadata": {},
   "source": [
    "### ii. No. of crash or error "
   ]
  },
  {
   "cell_type": "markdown",
   "metadata": {},
   "source": [
    " #### * Why\n",
    "    - Crash or error is the most important issue in event ticketing application\n",
    "    - Understand how and when app crash\n",
    "    - Improve user satisfaction\n",
    "    - Improve application performance"
   ]
  },
  {
   "cell_type": "markdown",
   "metadata": {},
   "source": [
    "#### * Field\n",
    "    - User_id\n",
    "    - Session_id\n",
    "    - Crash or error type\n",
    "    - Crash or error page\n",
    "    - Platform\n",
    "    - App Version\n",
    "    - Crash Time"
   ]
  },
  {
   "cell_type": "markdown",
   "metadata": {},
   "source": [
    "#### * Location\n",
    "     - Retrieve from Server log"
   ]
  },
  {
   "cell_type": "markdown",
   "metadata": {},
   "source": [
    "### iii. User Purchase Report"
   ]
  },
  {
   "cell_type": "markdown",
   "metadata": {},
   "source": [
    "#### * Why\n",
    "    - Revenue are from transaction fee of purchase\n",
    "    - Category User type depends on purchase frequency\n",
    "        - Type 1: Registered but no purchase\n",
    "        - Type 2: Registered and purchase only once in a given period\n",
    "        - Type 3: Purchased more than 1 time\n",
    "    - Customized marketing plan for different user type\n",
    "        - Type 1: Analyze crash report and session time report\n",
    "        - Type 2: Send out promotion or win-back customer email campign\n",
    "        - Type 3: Provide update events or recommendations on events"
   ]
  },
  {
   "cell_type": "markdown",
   "metadata": {},
   "source": [
    "#### * Field\n",
    "    - User_id \n",
    "    - Session_id\n",
    "    - Event_id\n",
    "    - Price\n",
    "    - Payment Method"
   ]
  },
  {
   "cell_type": "markdown",
   "metadata": {},
   "source": [
    "#### * Location\n",
    "    - Server Payment Record"
   ]
  },
  {
   "cell_type": "markdown",
   "metadata": {},
   "source": [
    "## 3.  Data Visualization"
   ]
  },
  {
   "cell_type": "markdown",
   "metadata": {},
   "source": [
    "### * Tools\n",
    "    - Tableau Public"
   ]
  },
  {
   "cell_type": "markdown",
   "metadata": {},
   "source": [
    "### *  Dataset\n",
    "    -Created three datasets for dashboard visualization\n",
    "       * user_session_time\n",
    "            - Record user time spent in every pages   \n",
    "       * app_crash_report\n",
    "            - Record every crashes by login session\n",
    "       * user_purchase_report\n",
    "            - Record every purchases by login session"
   ]
  },
  {
   "cell_type": "markdown",
   "metadata": {},
   "source": [
    "### * Dashboard Overview"
   ]
  },
  {
   "cell_type": "markdown",
   "metadata": {},
   "source": [
    "The KPI dashboard consists of 5 parts."
   ]
  },
  {
   "cell_type": "markdown",
   "metadata": {},
   "source": [
    "Public Link\n",
    "https://public.tableau.com/profile/cathy.cheng8698#!/vizhome/q3d_dashboard_0/KPIDashboard"
   ]
  },
  {
   "cell_type": "markdown",
   "metadata": {},
   "source": [
    "#### * Crash Rate\n",
    "    - Donut pie chart with crash rate percentage\n",
    "    - Calculated by count of session_id in app crash report / count of all session id in user_session_time\n",
    "    - Can quickly alert if the crash rate exceed a given value"
   ]
  },
  {
   "cell_type": "markdown",
   "metadata": {},
   "source": [
    " * Eample\n",
    "  - No. of session_id in app crash report = 11\n",
    "  - No. of session_id in user session time = 17\n",
    "  - crash rate = 11/37 = 64.71%"
   ]
  },
  {
   "cell_type": "markdown",
   "metadata": {},
   "source": [
    "####  * Session Time Overview\n",
    "    - Bar Chart \n",
    "    - Show average session time user spent on each page\n",
    "    - Understand which page user spent most of the time\n",
    "    - The label above the bar show no. of time access the page"
   ]
  },
  {
   "cell_type": "markdown",
   "metadata": {},
   "source": [
    "* Example\n",
    "    - Users average spent 150 seconds on page 5 which is perform payment\n",
    "    - Users spent less time on page 1 and 6 (event summary and purchase confirmation)\n",
    "    - Most of the user access page 3(seat selection)"
   ]
  },
  {
   "cell_type": "markdown",
   "metadata": {},
   "source": [
    "#### * Crash Overview\n",
    "    - Text Table\n",
    "    - Display percentage of crash occured in each platform and app version"
   ]
  },
  {
   "cell_type": "markdown",
   "metadata": {},
   "source": [
    "* Example\n",
    "   - Over 30% of crash from Android with App version 1.3"
   ]
  },
  {
   "cell_type": "markdown",
   "metadata": {},
   "source": [
    "#### * Event Overview\n",
    "    - Text Table\n",
    "    - Display no.of purchase, no.of user and total price transaction in each event\n",
    "    - Sort descending by no.of of purchase\n",
    "    - Identify user favorite events"
   ]
  },
  {
   "cell_type": "markdown",
   "metadata": {},
   "source": [
    "* Example\n",
    "    - ABC Concert has greatest no. of purchase, no.of user purchase and highest price"
   ]
  },
  {
   "cell_type": "markdown",
   "metadata": {},
   "source": [
    "#### * Crash Count in 7 days"
   ]
  },
  {
   "cell_type": "markdown",
   "metadata": {},
   "source": [
    "    - Line \n",
    "    - Show no.of crash in last 7days\n",
    "    - Easy to track app performance"
   ]
  },
  {
   "cell_type": "markdown",
   "metadata": {},
   "source": [
    "* Example\n",
    "    - The no.of crash has greated reduced from 1 Jan 2018"
   ]
  }
 ],
 "metadata": {
  "kernelspec": {
   "display_name": "Python [default]",
   "language": "python",
   "name": "python3"
  },
  "language_info": {
   "codemirror_mode": {
    "name": "ipython",
    "version": 3
   },
   "file_extension": ".py",
   "mimetype": "text/x-python",
   "name": "python",
   "nbconvert_exporter": "python",
   "pygments_lexer": "ipython3",
   "version": "3.6.0"
  }
 },
 "nbformat": 4,
 "nbformat_minor": 2
}
