{
 "cells": [
  {
   "cell_type": "markdown",
   "metadata": {},
   "source": [
    "# Offsite Test Q2 - Raw data analytics"
   ]
  },
  {
   "cell_type": "markdown",
   "metadata": {},
   "source": [
    " ### Import Library"
   ]
  },
  {
   "cell_type": "code",
   "execution_count": 52,
   "metadata": {
    "collapsed": true
   },
   "outputs": [],
   "source": [
    "import pandas as pd"
   ]
  },
  {
   "cell_type": "markdown",
   "metadata": {},
   "source": [
    "### Import sample data"
   ]
  },
  {
   "cell_type": "code",
   "execution_count": 53,
   "metadata": {
    "collapsed": false
   },
   "outputs": [],
   "source": [
    "sample_data=pd.read_csv(\"Q2_sample_data.txt\",delimiter=\"\\t\")"
   ]
  },
  {
   "cell_type": "code",
   "execution_count": 54,
   "metadata": {
    "collapsed": false
   },
   "outputs": [
    {
     "data": {
      "text/html": [
       "<div>\n",
       "<table border=\"1\" class=\"dataframe\">\n",
       "  <thead>\n",
       "    <tr style=\"text-align: right;\">\n",
       "      <th></th>\n",
       "      <th>date</th>\n",
       "      <th>time</th>\n",
       "      <th>size</th>\n",
       "      <th>url</th>\n",
       "    </tr>\n",
       "  </thead>\n",
       "  <tbody>\n",
       "    <tr>\n",
       "      <th>0</th>\n",
       "      <td>2017-08-24</td>\n",
       "      <td>10:28:13</td>\n",
       "      <td>13500</td>\n",
       "      <td>/media/thumbnail/fd1140af02.jpg</td>\n",
       "    </tr>\n",
       "    <tr>\n",
       "      <th>1</th>\n",
       "      <td>2017-08-24</td>\n",
       "      <td>10:28:13</td>\n",
       "      <td>7050</td>\n",
       "      <td>/media/thumbnail/8b527f7ca8.jpg</td>\n",
       "    </tr>\n",
       "    <tr>\n",
       "      <th>2</th>\n",
       "      <td>2017-08-24</td>\n",
       "      <td>10:28:13</td>\n",
       "      <td>18400</td>\n",
       "      <td>/media/thumbnail/b2670bc44f.jpg</td>\n",
       "    </tr>\n",
       "    <tr>\n",
       "      <th>3</th>\n",
       "      <td>2017-08-24</td>\n",
       "      <td>10:28:14</td>\n",
       "      <td>6543</td>\n",
       "      <td>/media/thumbnail/bdb3b41b8b.jpg</td>\n",
       "    </tr>\n",
       "    <tr>\n",
       "      <th>4</th>\n",
       "      <td>2017-08-24</td>\n",
       "      <td>10:28:14</td>\n",
       "      <td>150</td>\n",
       "      <td>/media/main.js</td>\n",
       "    </tr>\n",
       "  </tbody>\n",
       "</table>\n",
       "</div>"
      ],
      "text/plain": [
       "         date      time   size                              url\n",
       "0  2017-08-24  10:28:13  13500  /media/thumbnail/fd1140af02.jpg\n",
       "1  2017-08-24  10:28:13   7050  /media/thumbnail/8b527f7ca8.jpg\n",
       "2  2017-08-24  10:28:13  18400  /media/thumbnail/b2670bc44f.jpg\n",
       "3  2017-08-24  10:28:14   6543  /media/thumbnail/bdb3b41b8b.jpg\n",
       "4  2017-08-24  10:28:14    150                   /media/main.js"
      ]
     },
     "execution_count": 54,
     "metadata": {},
     "output_type": "execute_result"
    }
   ],
   "source": [
    "sample_data.head()"
   ]
  },
  {
   "cell_type": "markdown",
   "metadata": {},
   "source": [
    "### Filter Data - url end with jpg and between 24th Aug to 25th Aug"
   ]
  },
  {
   "cell_type": "code",
   "execution_count": 55,
   "metadata": {
    "collapsed": false
   },
   "outputs": [],
   "source": [
    "filter_1 = sample_data[sample_data['url'].str.endswith('jpg')]"
   ]
  },
  {
   "cell_type": "code",
   "execution_count": 56,
   "metadata": {
    "collapsed": false
   },
   "outputs": [],
   "source": [
    "filter_2 = filter_1[(filter_1['date'] >= '2017-08-24') & (filter_1['date'] <= '2017-08-25')]"
   ]
  },
  {
   "cell_type": "code",
   "execution_count": 57,
   "metadata": {
    "collapsed": false
   },
   "outputs": [
    {
     "name": "stdout",
     "output_type": "stream",
     "text": [
      "          date      time   size                              url\n",
      "0   2017-08-24  10:28:13  13500  /media/thumbnail/fd1140af02.jpg\n",
      "1   2017-08-24  10:28:13   7050  /media/thumbnail/8b527f7ca8.jpg\n",
      "2   2017-08-24  10:28:13  18400  /media/thumbnail/b2670bc44f.jpg\n",
      "3   2017-08-24  10:28:14   6543  /media/thumbnail/bdb3b41b8b.jpg\n",
      "5   2017-08-24  10:28:15  24130  /media/thumbnail/8124c8c648.jpg\n",
      "6   2017-08-24  10:28:17   3401  /media/thumbnail/2ab5f8593a.jpg\n",
      "7   2017-08-24  10:28:17   5017  /media/thumbnail/64f6312f93.jpg\n",
      "8   2017-08-24  10:28:17   7210  /media/thumbnail/458f99f4d3.jpg\n",
      "10  2017-08-25  10:28:17   7210  /media/thumbnail/458f99f4d3.jpg\n"
     ]
    }
   ],
   "source": [
    "print(filter_2)"
   ]
  },
  {
   "cell_type": "markdown",
   "metadata": {},
   "source": [
    "### Sum of the file size"
   ]
  },
  {
   "cell_type": "code",
   "execution_count": 58,
   "metadata": {
    "collapsed": false
   },
   "outputs": [
    {
     "data": {
      "text/plain": [
       "92461"
      ]
     },
     "execution_count": 58,
     "metadata": {},
     "output_type": "execute_result"
    }
   ],
   "source": [
    "filter_2['size'].sum()"
   ]
  }
 ],
 "metadata": {
  "kernelspec": {
   "display_name": "Python [default]",
   "language": "python",
   "name": "python3"
  },
  "language_info": {
   "codemirror_mode": {
    "name": "ipython",
    "version": 3
   },
   "file_extension": ".py",
   "mimetype": "text/x-python",
   "name": "python",
   "nbconvert_exporter": "python",
   "pygments_lexer": "ipython3",
   "version": "3.6.0"
  }
 },
 "nbformat": 4,
 "nbformat_minor": 2
}
